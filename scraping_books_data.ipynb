{
  "nbformat": 4,
  "nbformat_minor": 0,
  "metadata": {
    "colab": {
      "provenance": []
    },
    "kernelspec": {
      "name": "python3",
      "display_name": "Python 3"
    },
    "language_info": {
      "name": "python"
    }
  },
  "cells": [
    {
      "cell_type": "code",
      "execution_count": 36,
      "metadata": {
        "id": "bkVQXr6heNyL"
      },
      "outputs": [],
      "source": [
        "import requests\n",
        "from bs4 import BeautifulSoup\n",
        "import pandas as pd"
      ]
    },
    {
      "cell_type": "code",
      "source": [
        "books = []\n",
        "\n",
        "for i in range(1,51):\n",
        "\n",
        "  url = f\"https://books.toscrape.com/catalogue/page-{1}.html\"\n",
        "  response = requests.get(url)\n",
        "  response = response.content\n",
        "  soup = BeautifulSoup(response, 'html.parser')\n",
        "  ol = soup.find('ol')\n",
        "  articles = ol.find_all('article', class_ = 'product_pod')\n",
        "\n",
        "  for article in articles:\n",
        "    image = article.find('img')\n",
        "    title = image.attrs['alt']\n",
        "    star = article.find('p')\n",
        "    star = star['class'][1]\n",
        "    price = article.find('p', class_='price_color').text\n",
        "    price = float(price[1:])\n",
        "    print(price)\n",
        "    books.append([title, price, star])"
      ],
      "metadata": {
        "collapsed": true,
        "id": "gnQ8Vd-ugtjK"
      },
      "execution_count": null,
      "outputs": []
    },
    {
      "cell_type": "code",
      "source": [
        "books"
      ],
      "metadata": {
        "collapsed": true,
        "id": "_z2KaHVqlSHy"
      },
      "execution_count": null,
      "outputs": []
    },
    {
      "cell_type": "code",
      "source": [
        "df = pd.DataFrame(books, columns = ['Title', 'Price', 'Star_Rating'] )"
      ],
      "metadata": {
        "id": "aBImUfM7oWVk"
      },
      "execution_count": 39,
      "outputs": []
    },
    {
      "cell_type": "code",
      "source": [
        "df.to_csv(\"Books.csv\")"
      ],
      "metadata": {
        "id": "UmqL-IEgopHa"
      },
      "execution_count": 40,
      "outputs": []
    }
  ]
}